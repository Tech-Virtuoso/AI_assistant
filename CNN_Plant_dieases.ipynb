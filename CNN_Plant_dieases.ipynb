{
  "cells": [
    {
      "cell_type": "markdown",
      "metadata": {
        "id": "view-in-github",
        "colab_type": "text"
      },
      "source": [
        "<a href=\"https://colab.research.google.com/github/Tech-Virtuoso/AI_assistant/blob/main/CNN_Plant_dieases.ipynb\" target=\"_parent\"><img src=\"https://colab.research.google.com/assets/colab-badge.svg\" alt=\"Open In Colab\"/></a>"
      ]
    },
    {
      "cell_type": "code",
      "source": [
        "from google.colab import drive\n",
        "drive.mount('/content/drive')"
      ],
      "metadata": {
        "colab": {
          "base_uri": "https://localhost:8080/"
        },
        "id": "xTpBDJPrpNPQ",
        "outputId": "e00e831c-6703-4284-b879-58e0620a909d"
      },
      "id": "xTpBDJPrpNPQ",
      "execution_count": 66,
      "outputs": [
        {
          "output_type": "stream",
          "name": "stdout",
          "text": [
            "Drive already mounted at /content/drive; to attempt to forcibly remount, call drive.mount(\"/content/drive\", force_remount=True).\n"
          ]
        }
      ]
    },
    {
      "cell_type": "code",
      "execution_count": 67,
      "id": "4b84372f-8120-4c4a-b151-3a2a694e1bd3",
      "metadata": {
        "id": "4b84372f-8120-4c4a-b151-3a2a694e1bd3"
      },
      "outputs": [],
      "source": [
        "train_dir= \"/content/drive/MyDrive/Datasets/Plant dieases/Test/Test\"\n",
        "test_dir=\"/content/drive/MyDrive/Datasets/Plant dieases/Train/Train\"\n",
        "val_dir=\"/content/drive/MyDrive/Datasets/Plant dieases/Validation/Validation\""
      ]
    },
    {
      "cell_type": "code",
      "execution_count": 68,
      "id": "d9a5b160-d832-4dcc-abf2-81ed8424cef8",
      "metadata": {
        "id": "d9a5b160-d832-4dcc-abf2-81ed8424cef8"
      },
      "outputs": [],
      "source": [
        "import tensorflow as tf"
      ]
    },
    {
      "cell_type": "code",
      "execution_count": 69,
      "id": "75d1875c-f03c-41fd-9bf0-1c28f02e5c40",
      "metadata": {
        "colab": {
          "base_uri": "https://localhost:8080/"
        },
        "id": "75d1875c-f03c-41fd-9bf0-1c28f02e5c40",
        "outputId": "fcd7114d-1e40-42d4-d9bc-c02fd09ef307"
      },
      "outputs": [
        {
          "output_type": "stream",
          "name": "stdout",
          "text": [
            "Found 150 files belonging to 3 classes.\n"
          ]
        }
      ],
      "source": [
        "# Creating a Dataset for the Training data\n",
        "train = tf.keras.utils.image_dataset_from_directory(\n",
        "    train_dir,  # Directory where the Training images are located\n",
        "    labels = 'inferred', # Classes will be inferred according to the structure of the directory\n",
        "    label_mode = 'categorical',\n",
        "    class_names = ['Healthy', 'Powdery', 'Rust'],\n",
        "    batch_size = 16,    # Number of processed samples before updating the model's weights\n",
        "    image_size = (256, 256), # Defining a fixed dimension for all images\n",
        "    shuffle = True,  # Shuffling data\n",
        "    seed = 42,  # Random seed for shuffling and transformations\n",
        "    validation_split = 0, # We don't need to create a validation set from the training set\n",
        "    crop_to_aspect_ratio = True # Resize images without aspect ratio distortion\n",
        ")"
      ]
    },
    {
      "cell_type": "code",
      "source": [],
      "metadata": {
        "id": "be01f0LypLfy"
      },
      "id": "be01f0LypLfy",
      "execution_count": 69,
      "outputs": []
    },
    {
      "cell_type": "code",
      "execution_count": 70,
      "id": "3fa7820d-c7cd-49e6-a4ae-4a83538cbc4e",
      "metadata": {
        "colab": {
          "base_uri": "https://localhost:8080/"
        },
        "id": "3fa7820d-c7cd-49e6-a4ae-4a83538cbc4e",
        "outputId": "dac16eed-54c6-40fc-bfc3-b099a0677226"
      },
      "outputs": [
        {
          "output_type": "stream",
          "name": "stdout",
          "text": [
            "Found 1322 files belonging to 3 classes.\n"
          ]
        }
      ],
      "source": [
        "# Creating a dataset for the Test data\n",
        "test = tf.keras.utils.image_dataset_from_directory(\n",
        "    test_dir,\n",
        "    labels = 'inferred',\n",
        "    label_mode = 'categorical',\n",
        "    class_names = ['Healthy', 'Powdery', 'Rust'],\n",
        "    batch_size = 16,\n",
        "    image_size = (256, 256),\n",
        "    shuffle = True,\n",
        "    seed = 42,\n",
        "    validation_split = 0,\n",
        "    crop_to_aspect_ratio = True\n",
        ")"
      ]
    },
    {
      "cell_type": "code",
      "execution_count": 71,
      "id": "bdc50951-ba39-4289-8370-e6805aa1c8e2",
      "metadata": {
        "colab": {
          "base_uri": "https://localhost:8080/"
        },
        "id": "bdc50951-ba39-4289-8370-e6805aa1c8e2",
        "outputId": "4a97563d-03fd-41c5-c55d-e7b50505117e"
      },
      "outputs": [
        {
          "output_type": "stream",
          "name": "stdout",
          "text": [
            "Found 60 files belonging to 3 classes.\n"
          ]
        }
      ],
      "source": [
        "# Creating a dataset for the Test data\n",
        "validation = tf.keras.utils.image_dataset_from_directory(\n",
        "    val_dir,\n",
        "    labels = 'inferred',\n",
        "    label_mode = 'categorical',\n",
        "    class_names = ['Healthy', 'Powdery', 'Rust'],\n",
        "    batch_size = 16,\n",
        "    image_size = (256, 256),\n",
        "    shuffle = True,\n",
        "    seed = 42,\n",
        "    validation_split = 0,\n",
        "    crop_to_aspect_ratio = True\n",
        ")"
      ]
    },
    {
      "cell_type": "code",
      "execution_count": 72,
      "id": "85015897-d1d6-414e-aa31-055a27e206d1",
      "metadata": {
        "colab": {
          "base_uri": "https://localhost:8080/"
        },
        "id": "85015897-d1d6-414e-aa31-055a27e206d1",
        "outputId": "4c505644-f1ea-47dc-c14a-e619aba1ccf5"
      },
      "outputs": [
        {
          "output_type": "stream",
          "name": "stdout",
          "text": [
            "\n",
            "Training Dataset: <_PrefetchDataset element_spec=(TensorSpec(shape=(None, 256, 256, 3), dtype=tf.uint8, name=None), TensorSpec(shape=(None, 3), dtype=tf.float32, name=None))>\n",
            "\n",
            "Testing Dataset: <_PrefetchDataset element_spec=(TensorSpec(shape=(None, 256, 256, 3), dtype=tf.uint8, name=None), TensorSpec(shape=(None, 3), dtype=tf.float32, name=None))>\n",
            "\n",
            "Validation Dataset: <_PrefetchDataset element_spec=(TensorSpec(shape=(None, 256, 256, 3), dtype=tf.uint8, name=None), TensorSpec(shape=(None, 3), dtype=tf.float32, name=None))>\n"
          ]
        }
      ],
      "source": [
        "print('\\nTraining Dataset:', train)\n",
        "print('\\nTesting Dataset:', test)\n",
        "print('\\nValidation Dataset:', validation)"
      ]
    },
    {
      "cell_type": "code",
      "execution_count": 73,
      "id": "bf748398-3a39-460d-884e-c325885dd1a2",
      "metadata": {
        "id": "bf748398-3a39-460d-884e-c325885dd1a2"
      },
      "outputs": [],
      "source": [
        "\n",
        "\n",
        "scaler = tf.keras.layers.Rescaling(1./255) # Defining scaler values between 0 to 1\n",
        "# Rescaling datasets\n",
        "train = train.map(lambda x, y: (scaler(x), y))\n",
        "test = test.map(lambda x, y: (scaler(x), y))\n",
        "validation = validation.map(lambda x, y: (scaler(x), y))"
      ]
    },
    {
      "cell_type": "code",
      "execution_count": 74,
      "id": "e5f7c5e3-e379-48db-a454-fac8a1041b66",
      "metadata": {
        "id": "e5f7c5e3-e379-48db-a454-fac8a1041b66"
      },
      "outputs": [],
      "source": [
        "seed=42\n",
        "# Creating data augmentation pipeline\n",
        "augmentation = tf.keras.Sequential(\n",
        "    [\n",
        "        tf.keras.layers.RandomRotation(\n",
        "        factor = (-.25, .3),\n",
        "        fill_mode = 'reflect',\n",
        "        interpolation = 'bilinear',\n",
        "        seed = seed),\n",
        "\n",
        "\n",
        "        tf.keras.layers.RandomBrightness(\n",
        "        factor = (-.45, .45),\n",
        "        value_range = (0.0, 1.0),\n",
        "        seed = seed),\n",
        "\n",
        "        tf.keras.layers.RandomContrast(\n",
        "        factor = (.5),\n",
        "        seed = seed)\n",
        "    ]\n",
        ")"
      ]
    },
    {
      "cell_type": "code",
      "source": [
        "from tensorflow.keras.models import Sequential\n",
        "from tensorflow.keras.layers import Conv2D, Activation, BatchNormalization, MaxPooling2D, Dropout, Flatten, Dense\n",
        "\n",
        "# Initiating model without strategy.scope()\n",
        "model = Sequential()\n",
        "\n",
        "# Feature Learning Layers\n",
        "model.add(Conv2D(32,                  # Number of filters/Kernels\n",
        "                 (3,3),               # Size of kernels (3x3 matrix)\n",
        "                 strides = 1,         # Step size for sliding the kernel across the input (1 pixel at a time).\n",
        "                 padding = 'same',    # 'Same' ensures that the output feature map has the same dimensions as the input by padding zeros around the input.\n",
        "                input_shape = (256,256,3) # Input image shape\n",
        "                ))\n",
        "\n",
        "model.add(augmentation)  # Assuming you defined an augmentation layer earlier\n",
        "model.add(Activation('relu'))  # Activation function\n",
        "model.add(BatchNormalization())\n",
        "model.add(MaxPooling2D(pool_size=(2,2), padding='same'))\n",
        "model.add(Dropout(0.2))\n",
        "\n",
        "model.add(Conv2D(64, (5,5), padding='same'))\n",
        "model.add(Activation('relu'))\n",
        "model.add(BatchNormalization())\n",
        "model.add(MaxPooling2D(pool_size=(2,2), padding='same'))\n",
        "model.add(Dropout(0.2))\n",
        "\n",
        "model.add(Conv2D(128, (3,3), padding='same'))\n",
        "model.add(Activation('relu'))\n",
        "model.add(BatchNormalization())\n",
        "model.add(MaxPooling2D(pool_size=(2,2), padding='same'))\n",
        "model.add(Dropout(0.3))\n",
        "\n",
        "model.add(Conv2D(256, (5,5), padding='same'))\n",
        "model.add(Activation('relu'))\n",
        "model.add(BatchNormalization())\n",
        "model.add(MaxPooling2D(pool_size=(2,2), padding='same'))\n",
        "model.add(Dropout(0.3))\n",
        "\n",
        "model.add(Conv2D(512, (3,3), padding='same'))\n",
        "model.add(Activation('relu'))\n",
        "model.add(BatchNormalization())\n",
        "model.add(MaxPooling2D(pool_size=(2,2), padding='same'))\n",
        "model.add(Dropout(0.3))\n",
        "\n",
        "# Flattening tensors\n",
        "model.add(Flatten())\n",
        "\n",
        "# Fully-Connected Layers\n",
        "model.add(Dense(2048))\n",
        "model.add(Activation('relu'))\n",
        "model.add(Dropout(0.5))\n",
        "\n",
        "# Output Layer\n",
        "model.add(Dense(3, activation='softmax'))  # Classification layer\n"
      ],
      "metadata": {
        "colab": {
          "base_uri": "https://localhost:8080/"
        },
        "id": "ibINWL6G1_3a",
        "outputId": "6faa39af-6e5a-4758-f10d-e3da61c9ab18"
      },
      "id": "ibINWL6G1_3a",
      "execution_count": 75,
      "outputs": [
        {
          "output_type": "stream",
          "name": "stderr",
          "text": [
            "/usr/local/lib/python3.10/dist-packages/keras/src/layers/convolutional/base_conv.py:107: UserWarning: Do not pass an `input_shape`/`input_dim` argument to a layer. When using Sequential models, prefer using an `Input(shape)` object as the first layer in the model instead.\n",
            "  super().__init__(activity_regularizer=activity_regularizer, **kwargs)\n"
          ]
        }
      ]
    },
    {
      "cell_type": "code",
      "execution_count": 76,
      "id": "7ef7f833-ba88-4627-aaf0-0792465f0937",
      "metadata": {
        "id": "7ef7f833-ba88-4627-aaf0-0792465f0937"
      },
      "outputs": [],
      "source": [
        "# Compiling model\n",
        "\n",
        "from keras.optimizers import RMSprop\n",
        "\n",
        "optimizer = RMSprop(learning_rate=0.001)  # Or whatever optimizer you're using\n",
        "model.compile(optimizer=optimizer, loss='categorical_crossentropy', metrics=['accuracy'])\n"
      ]
    },
    {
      "cell_type": "code",
      "execution_count": 83,
      "id": "e2822b25-a3a3-4462-a69b-524757c01db7",
      "metadata": {
        "id": "e2822b25-a3a3-4462-a69b-524757c01db7"
      },
      "outputs": [],
      "source": [
        "\n",
        "\n",
        "# Defining an Early Stopping and Model Checkpoints\n",
        "early_stopping = tf.keras.callbacks.EarlyStopping(\n",
        "    monitor='val_loss',          # Metric to monitor (e.g., validation loss)\n",
        "    mode='max',                 # Mode to monitor ('min' for loss, 'max' for accuracy)\n",
        "    restore_best_weights=True    # Restore model weights from the epoch with the best value of the monitored metric\n",
        ")\n",
        "checkpoint = tf.keras.callbacks.ModelCheckpoint(\n",
        "    filepath='best_model.keras',     # Path where the model file will be saved\n",
        "    monitor='val_accuracy',           # Metric to monitor (e.g., validation loss)\n",
        "    save_best_only=True,           # Save only the best model based on the monitored                      # Verbosity mode (1 for progress messages)\n",
        ")\n"
      ]
    },
    {
      "cell_type": "code",
      "execution_count": 86,
      "id": "597ba0ed-3444-47a0-92ba-db3c1459c127",
      "metadata": {
        "colab": {
          "base_uri": "https://localhost:8080/"
        },
        "id": "597ba0ed-3444-47a0-92ba-db3c1459c127",
        "outputId": "d2d65ada-b2df-42b0-c43c-bdaee16898f5"
      },
      "outputs": [
        {
          "output_type": "stream",
          "name": "stdout",
          "text": [
            "Epoch 1/100\n",
            "\u001b[1m10/10\u001b[0m \u001b[32m━━━━━━━━━━━━━━━━━━━━\u001b[0m\u001b[37m\u001b[0m \u001b[1m8s\u001b[0m 816ms/step - accuracy: 0.3922 - loss: 48.9163 - val_accuracy: 0.3333 - val_loss: 9.4047\n",
            "Epoch 2/100\n",
            "\u001b[1m10/10\u001b[0m \u001b[32m━━━━━━━━━━━━━━━━━━━━\u001b[0m\u001b[37m\u001b[0m \u001b[1m12s\u001b[0m 1s/step - accuracy: 0.4102 - loss: 31.2708 - val_accuracy: 0.3333 - val_loss: 21.8100\n",
            "Epoch 3/100\n",
            "\u001b[1m10/10\u001b[0m \u001b[32m━━━━━━━━━━━━━━━━━━━━\u001b[0m\u001b[37m\u001b[0m \u001b[1m10s\u001b[0m 1s/step - accuracy: 0.3837 - loss: 46.1624 - val_accuracy: 0.4667 - val_loss: 4.5250\n",
            "Epoch 4/100\n",
            "\u001b[1m10/10\u001b[0m \u001b[32m━━━━━━━━━━━━━━━━━━━━\u001b[0m\u001b[37m\u001b[0m \u001b[1m8s\u001b[0m 836ms/step - accuracy: 0.4537 - loss: 55.4344 - val_accuracy: 0.3500 - val_loss: 35.8213\n",
            "Epoch 5/100\n",
            "\u001b[1m10/10\u001b[0m \u001b[32m━━━━━━━━━━━━━━━━━━━━\u001b[0m\u001b[37m\u001b[0m \u001b[1m10s\u001b[0m 837ms/step - accuracy: 0.4821 - loss: 26.7073 - val_accuracy: 0.3500 - val_loss: 23.9915\n",
            "Epoch 6/100\n",
            "\u001b[1m10/10\u001b[0m \u001b[32m━━━━━━━━━━━━━━━━━━━━\u001b[0m\u001b[37m\u001b[0m \u001b[1m12s\u001b[0m 944ms/step - accuracy: 0.4596 - loss: 39.9989 - val_accuracy: 0.3333 - val_loss: 115.6396\n",
            "Epoch 7/100\n",
            "\u001b[1m10/10\u001b[0m \u001b[32m━━━━━━━━━━━━━━━━━━━━\u001b[0m\u001b[37m\u001b[0m \u001b[1m10s\u001b[0m 986ms/step - accuracy: 0.4558 - loss: 35.0844 - val_accuracy: 0.3333 - val_loss: 57.5871\n",
            "Epoch 8/100\n",
            "\u001b[1m10/10\u001b[0m \u001b[32m━━━━━━━━━━━━━━━━━━━━\u001b[0m\u001b[37m\u001b[0m \u001b[1m9s\u001b[0m 874ms/step - accuracy: 0.4719 - loss: 27.8849 - val_accuracy: 0.3333 - val_loss: 151.1222\n",
            "Epoch 9/100\n",
            "\u001b[1m10/10\u001b[0m \u001b[32m━━━━━━━━━━━━━━━━━━━━\u001b[0m\u001b[37m\u001b[0m \u001b[1m10s\u001b[0m 928ms/step - accuracy: 0.3869 - loss: 36.7959 - val_accuracy: 0.3333 - val_loss: 163.3823\n",
            "Epoch 10/100\n",
            "\u001b[1m10/10\u001b[0m \u001b[32m━━━━━━━━━━━━━━━━━━━━\u001b[0m\u001b[37m\u001b[0m \u001b[1m11s\u001b[0m 1s/step - accuracy: 0.4333 - loss: 39.6367 - val_accuracy: 0.3333 - val_loss: 115.9259\n",
            "Epoch 11/100\n",
            "\u001b[1m10/10\u001b[0m \u001b[32m━━━━━━━━━━━━━━━━━━━━\u001b[0m\u001b[37m\u001b[0m \u001b[1m12s\u001b[0m 1s/step - accuracy: 0.4240 - loss: 23.5048 - val_accuracy: 0.3333 - val_loss: 91.3843\n",
            "Epoch 12/100\n",
            "\u001b[1m10/10\u001b[0m \u001b[32m━━━━━━━━━━━━━━━━━━━━\u001b[0m\u001b[37m\u001b[0m \u001b[1m8s\u001b[0m 814ms/step - accuracy: 0.3953 - loss: 33.9996 - val_accuracy: 0.3333 - val_loss: 48.3879\n",
            "Epoch 13/100\n",
            "\u001b[1m10/10\u001b[0m \u001b[32m━━━━━━━━━━━━━━━━━━━━\u001b[0m\u001b[37m\u001b[0m \u001b[1m13s\u001b[0m 1s/step - accuracy: 0.5087 - loss: 23.3852 - val_accuracy: 0.3333 - val_loss: 82.5610\n",
            "Epoch 14/100\n",
            "\u001b[1m10/10\u001b[0m \u001b[32m━━━━━━━━━━━━━━━━━━━━\u001b[0m\u001b[37m\u001b[0m \u001b[1m20s\u001b[0m 1s/step - accuracy: 0.3553 - loss: 28.3949 - val_accuracy: 0.3333 - val_loss: 45.3500\n",
            "Epoch 15/100\n",
            "\u001b[1m10/10\u001b[0m \u001b[32m━━━━━━━━━━━━━━━━━━━━\u001b[0m\u001b[37m\u001b[0m \u001b[1m8s\u001b[0m 785ms/step - accuracy: 0.4509 - loss: 26.9237 - val_accuracy: 0.3667 - val_loss: 51.7014\n",
            "Epoch 16/100\n",
            "\u001b[1m10/10\u001b[0m \u001b[32m━━━━━━━━━━━━━━━━━━━━\u001b[0m\u001b[37m\u001b[0m \u001b[1m10s\u001b[0m 1s/step - accuracy: 0.3093 - loss: 22.7774 - val_accuracy: 0.3333 - val_loss: 65.2377\n",
            "Epoch 17/100\n",
            "\u001b[1m10/10\u001b[0m \u001b[32m━━━━━━━━━━━━━━━━━━━━\u001b[0m\u001b[37m\u001b[0m \u001b[1m12s\u001b[0m 1s/step - accuracy: 0.4124 - loss: 18.2560 - val_accuracy: 0.3333 - val_loss: 58.4305\n",
            "Epoch 18/100\n",
            "\u001b[1m10/10\u001b[0m \u001b[32m━━━━━━━━━━━━━━━━━━━━\u001b[0m\u001b[37m\u001b[0m \u001b[1m10s\u001b[0m 958ms/step - accuracy: 0.4761 - loss: 17.4500 - val_accuracy: 0.3333 - val_loss: 14.7815\n",
            "Epoch 19/100\n",
            "\u001b[1m10/10\u001b[0m \u001b[32m━━━━━━━━━━━━━━━━━━━━\u001b[0m\u001b[37m\u001b[0m \u001b[1m9s\u001b[0m 805ms/step - accuracy: 0.3968 - loss: 30.3369 - val_accuracy: 0.4000 - val_loss: 7.3713\n",
            "Epoch 20/100\n",
            "\u001b[1m10/10\u001b[0m \u001b[32m━━━━━━━━━━━━━━━━━━━━\u001b[0m\u001b[37m\u001b[0m \u001b[1m12s\u001b[0m 963ms/step - accuracy: 0.4172 - loss: 11.1687 - val_accuracy: 0.3667 - val_loss: 11.2046\n",
            "Epoch 21/100\n",
            "\u001b[1m10/10\u001b[0m \u001b[32m━━━━━━━━━━━━━━━━━━━━\u001b[0m\u001b[37m\u001b[0m \u001b[1m10s\u001b[0m 1s/step - accuracy: 0.4051 - loss: 12.2127 - val_accuracy: 0.4167 - val_loss: 29.6042\n",
            "Epoch 22/100\n",
            "\u001b[1m10/10\u001b[0m \u001b[32m━━━━━━━━━━━━━━━━━━━━\u001b[0m\u001b[37m\u001b[0m \u001b[1m8s\u001b[0m 831ms/step - accuracy: 0.2828 - loss: 26.8726 - val_accuracy: 0.3333 - val_loss: 249.1949\n",
            "Epoch 23/100\n",
            "\u001b[1m10/10\u001b[0m \u001b[32m━━━━━━━━━━━━━━━━━━━━\u001b[0m\u001b[37m\u001b[0m \u001b[1m10s\u001b[0m 943ms/step - accuracy: 0.4033 - loss: 20.6134 - val_accuracy: 0.3333 - val_loss: 214.6131\n",
            "Epoch 24/100\n",
            "\u001b[1m10/10\u001b[0m \u001b[32m━━━━━━━━━━━━━━━━━━━━\u001b[0m\u001b[37m\u001b[0m \u001b[1m10s\u001b[0m 996ms/step - accuracy: 0.4499 - loss: 9.9444 - val_accuracy: 0.3333 - val_loss: 139.7004\n",
            "Epoch 25/100\n",
            "\u001b[1m10/10\u001b[0m \u001b[32m━━━━━━━━━━━━━━━━━━━━\u001b[0m\u001b[37m\u001b[0m \u001b[1m9s\u001b[0m 849ms/step - accuracy: 0.4535 - loss: 17.5208 - val_accuracy: 0.3333 - val_loss: 88.4522\n",
            "Epoch 26/100\n",
            "\u001b[1m10/10\u001b[0m \u001b[32m━━━━━━━━━━━━━━━━━━━━\u001b[0m\u001b[37m\u001b[0m \u001b[1m10s\u001b[0m 831ms/step - accuracy: 0.3854 - loss: 17.5956 - val_accuracy: 0.3333 - val_loss: 103.3525\n",
            "Epoch 27/100\n",
            "\u001b[1m10/10\u001b[0m \u001b[32m━━━━━━━━━━━━━━━━━━━━\u001b[0m\u001b[37m\u001b[0m \u001b[1m12s\u001b[0m 950ms/step - accuracy: 0.4418 - loss: 7.5857 - val_accuracy: 0.3333 - val_loss: 42.4448\n",
            "Epoch 28/100\n",
            "\u001b[1m10/10\u001b[0m \u001b[32m━━━━━━━━━━━━━━━━━━━━\u001b[0m\u001b[37m\u001b[0m \u001b[1m10s\u001b[0m 1s/step - accuracy: 0.4074 - loss: 2.7532 - val_accuracy: 0.3833 - val_loss: 59.0593\n",
            "Epoch 29/100\n",
            "\u001b[1m10/10\u001b[0m \u001b[32m━━━━━━━━━━━━━━━━━━━━\u001b[0m\u001b[37m\u001b[0m \u001b[1m8s\u001b[0m 815ms/step - accuracy: 0.4500 - loss: 2.3382 - val_accuracy: 0.3333 - val_loss: 30.3650\n",
            "Epoch 30/100\n",
            "\u001b[1m10/10\u001b[0m \u001b[32m━━━━━━━━━━━━━━━━━━━━\u001b[0m\u001b[37m\u001b[0m \u001b[1m11s\u001b[0m 820ms/step - accuracy: 0.3688 - loss: 3.0009 - val_accuracy: 0.3333 - val_loss: 38.2000\n",
            "Epoch 31/100\n",
            "\u001b[1m10/10\u001b[0m \u001b[32m━━━━━━━━━━━━━━━━━━━━\u001b[0m\u001b[37m\u001b[0m \u001b[1m11s\u001b[0m 950ms/step - accuracy: 0.4410 - loss: 4.7970 - val_accuracy: 0.3333 - val_loss: 39.9884\n",
            "Epoch 32/100\n",
            "\u001b[1m10/10\u001b[0m \u001b[32m━━━━━━━━━━━━━━━━━━━━\u001b[0m\u001b[37m\u001b[0m \u001b[1m12s\u001b[0m 1s/step - accuracy: 0.4428 - loss: 2.6307 - val_accuracy: 0.3333 - val_loss: 223.9910\n",
            "Epoch 33/100\n",
            "\u001b[1m10/10\u001b[0m \u001b[32m━━━━━━━━━━━━━━━━━━━━\u001b[0m\u001b[37m\u001b[0m \u001b[1m11s\u001b[0m 1s/step - accuracy: 0.4069 - loss: 4.7920 - val_accuracy: 0.3333 - val_loss: 132.1515\n",
            "Epoch 34/100\n",
            "\u001b[1m10/10\u001b[0m \u001b[32m━━━━━━━━━━━━━━━━━━━━\u001b[0m\u001b[37m\u001b[0m \u001b[1m8s\u001b[0m 832ms/step - accuracy: 0.4178 - loss: 3.9313 - val_accuracy: 0.3333 - val_loss: 13.2883\n",
            "Epoch 35/100\n",
            "\u001b[1m10/10\u001b[0m \u001b[32m━━━━━━━━━━━━━━━━━━━━\u001b[0m\u001b[37m\u001b[0m \u001b[1m11s\u001b[0m 883ms/step - accuracy: 0.3974 - loss: 4.1465 - val_accuracy: 0.3333 - val_loss: 19.9147\n",
            "Epoch 36/100\n",
            "\u001b[1m10/10\u001b[0m \u001b[32m━━━━━━━━━━━━━━━━━━━━\u001b[0m\u001b[37m\u001b[0m \u001b[1m11s\u001b[0m 1s/step - accuracy: 0.3801 - loss: 2.8402 - val_accuracy: 0.3667 - val_loss: 2.0415\n",
            "Epoch 37/100\n",
            "\u001b[1m10/10\u001b[0m \u001b[32m━━━━━━━━━━━━━━━━━━━━\u001b[0m\u001b[37m\u001b[0m \u001b[1m11s\u001b[0m 1s/step - accuracy: 0.3087 - loss: 4.2266 - val_accuracy: 0.3333 - val_loss: 13.6600\n",
            "Epoch 38/100\n",
            "\u001b[1m10/10\u001b[0m \u001b[32m━━━━━━━━━━━━━━━━━━━━\u001b[0m\u001b[37m\u001b[0m \u001b[1m8s\u001b[0m 801ms/step - accuracy: 0.3239 - loss: 8.0251 - val_accuracy: 0.3333 - val_loss: 31.0235\n",
            "Epoch 39/100\n",
            "\u001b[1m10/10\u001b[0m \u001b[32m━━━━━━━━━━━━━━━━━━━━\u001b[0m\u001b[37m\u001b[0m \u001b[1m11s\u001b[0m 823ms/step - accuracy: 0.4631 - loss: 2.2990 - val_accuracy: 0.3333 - val_loss: 26.0834\n",
            "Epoch 40/100\n",
            "\u001b[1m10/10\u001b[0m \u001b[32m━━━━━━━━━━━━━━━━━━━━\u001b[0m\u001b[37m\u001b[0m \u001b[1m11s\u001b[0m 958ms/step - accuracy: 0.4453 - loss: 3.1287 - val_accuracy: 0.3333 - val_loss: 70.2658\n",
            "Epoch 41/100\n",
            "\u001b[1m10/10\u001b[0m \u001b[32m━━━━━━━━━━━━━━━━━━━━\u001b[0m\u001b[37m\u001b[0m \u001b[1m11s\u001b[0m 994ms/step - accuracy: 0.4221 - loss: 1.6421 - val_accuracy: 0.3333 - val_loss: 63.5280\n",
            "Epoch 42/100\n",
            "\u001b[1m10/10\u001b[0m \u001b[32m━━━━━━━━━━━━━━━━━━━━\u001b[0m\u001b[37m\u001b[0m \u001b[1m9s\u001b[0m 834ms/step - accuracy: 0.3641 - loss: 3.8098 - val_accuracy: 0.4333 - val_loss: 6.9047\n",
            "Epoch 43/100\n",
            "\u001b[1m10/10\u001b[0m \u001b[32m━━━━━━━━━━━━━━━━━━━━\u001b[0m\u001b[37m\u001b[0m \u001b[1m11s\u001b[0m 843ms/step - accuracy: 0.3911 - loss: 2.4621 - val_accuracy: 0.3333 - val_loss: 34.3307\n",
            "Epoch 44/100\n",
            "\u001b[1m10/10\u001b[0m \u001b[32m━━━━━━━━━━━━━━━━━━━━\u001b[0m\u001b[37m\u001b[0m \u001b[1m11s\u001b[0m 972ms/step - accuracy: 0.3914 - loss: 5.1976 - val_accuracy: 0.3333 - val_loss: 172.3143\n",
            "Epoch 45/100\n",
            "\u001b[1m10/10\u001b[0m \u001b[32m━━━━━━━━━━━━━━━━━━━━\u001b[0m\u001b[37m\u001b[0m \u001b[1m11s\u001b[0m 1s/step - accuracy: 0.4237 - loss: 3.4475 - val_accuracy: 0.3333 - val_loss: 134.7489\n",
            "Epoch 46/100\n",
            "\u001b[1m10/10\u001b[0m \u001b[32m━━━━━━━━━━━━━━━━━━━━\u001b[0m\u001b[37m\u001b[0m \u001b[1m8s\u001b[0m 789ms/step - accuracy: 0.4799 - loss: 2.0205 - val_accuracy: 0.3333 - val_loss: 79.6967\n",
            "Epoch 47/100\n",
            "\u001b[1m10/10\u001b[0m \u001b[32m━━━━━━━━━━━━━━━━━━━━\u001b[0m\u001b[37m\u001b[0m \u001b[1m12s\u001b[0m 975ms/step - accuracy: 0.4244 - loss: 1.5385 - val_accuracy: 0.3333 - val_loss: 52.5816\n",
            "Epoch 48/100\n",
            "\u001b[1m10/10\u001b[0m \u001b[32m━━━━━━━━━━━━━━━━━━━━\u001b[0m\u001b[37m\u001b[0m \u001b[1m10s\u001b[0m 1s/step - accuracy: 0.3944 - loss: 2.9644 - val_accuracy: 0.3333 - val_loss: 74.9454\n",
            "Epoch 49/100\n",
            "\u001b[1m10/10\u001b[0m \u001b[32m━━━━━━━━━━━━━━━━━━━━\u001b[0m\u001b[37m\u001b[0m \u001b[1m8s\u001b[0m 783ms/step - accuracy: 0.4088 - loss: 1.8331 - val_accuracy: 0.5167 - val_loss: 29.9205\n",
            "Epoch 50/100\n",
            "\u001b[1m10/10\u001b[0m \u001b[32m━━━━━━━━━━━━━━━━━━━━\u001b[0m\u001b[37m\u001b[0m \u001b[1m11s\u001b[0m 844ms/step - accuracy: 0.4224 - loss: 2.2699 - val_accuracy: 0.3333 - val_loss: 36.9984\n",
            "Epoch 51/100\n",
            "\u001b[1m10/10\u001b[0m \u001b[32m━━━━━━━━━━━━━━━━━━━━\u001b[0m\u001b[37m\u001b[0m \u001b[1m14s\u001b[0m 1s/step - accuracy: 0.4782 - loss: 1.4921 - val_accuracy: 0.3333 - val_loss: 38.2421\n",
            "Epoch 52/100\n",
            "\u001b[1m10/10\u001b[0m \u001b[32m━━━━━━━━━━━━━━━━━━━━\u001b[0m\u001b[37m\u001b[0m \u001b[1m10s\u001b[0m 987ms/step - accuracy: 0.3874 - loss: 1.6976 - val_accuracy: 0.3333 - val_loss: 9.6158\n",
            "Epoch 53/100\n",
            "\u001b[1m10/10\u001b[0m \u001b[32m━━━━━━━━━━━━━━━━━━━━\u001b[0m\u001b[37m\u001b[0m \u001b[1m11s\u001b[0m 1s/step - accuracy: 0.3571 - loss: 1.7266 - val_accuracy: 0.3333 - val_loss: 20.8751\n",
            "Epoch 54/100\n",
            "\u001b[1m10/10\u001b[0m \u001b[32m━━━━━━━━━━━━━━━━━━━━\u001b[0m\u001b[37m\u001b[0m \u001b[1m8s\u001b[0m 798ms/step - accuracy: 0.3862 - loss: 1.7248 - val_accuracy: 0.3333 - val_loss: 21.5834\n",
            "Epoch 55/100\n",
            "\u001b[1m10/10\u001b[0m \u001b[32m━━━━━━━━━━━━━━━━━━━━\u001b[0m\u001b[37m\u001b[0m \u001b[1m11s\u001b[0m 875ms/step - accuracy: 0.5262 - loss: 2.2805 - val_accuracy: 0.3333 - val_loss: 47.2022\n",
            "Epoch 56/100\n",
            "\u001b[1m10/10\u001b[0m \u001b[32m━━━━━━━━━━━━━━━━━━━━\u001b[0m\u001b[37m\u001b[0m \u001b[1m11s\u001b[0m 1000ms/step - accuracy: 0.4013 - loss: 2.2047 - val_accuracy: 0.3333 - val_loss: 11.8294\n",
            "Epoch 57/100\n",
            "\u001b[1m10/10\u001b[0m \u001b[32m━━━━━━━━━━━━━━━━━━━━\u001b[0m\u001b[37m\u001b[0m \u001b[1m10s\u001b[0m 993ms/step - accuracy: 0.4032 - loss: 1.5777 - val_accuracy: 0.3833 - val_loss: 11.3409\n",
            "Epoch 58/100\n",
            "\u001b[1m10/10\u001b[0m \u001b[32m━━━━━━━━━━━━━━━━━━━━\u001b[0m\u001b[37m\u001b[0m \u001b[1m9s\u001b[0m 807ms/step - accuracy: 0.5099 - loss: 1.7565 - val_accuracy: 0.5333 - val_loss: 6.3896\n",
            "Epoch 59/100\n",
            "\u001b[1m10/10\u001b[0m \u001b[32m━━━━━━━━━━━━━━━━━━━━\u001b[0m\u001b[37m\u001b[0m \u001b[1m12s\u001b[0m 927ms/step - accuracy: 0.4107 - loss: 1.4001 - val_accuracy: 0.3833 - val_loss: 6.8643\n",
            "Epoch 60/100\n",
            "\u001b[1m10/10\u001b[0m \u001b[32m━━━━━━━━━━━━━━━━━━━━\u001b[0m\u001b[37m\u001b[0m \u001b[1m10s\u001b[0m 983ms/step - accuracy: 0.4770 - loss: 1.3685 - val_accuracy: 0.4167 - val_loss: 5.0004\n",
            "Epoch 61/100\n",
            "\u001b[1m10/10\u001b[0m \u001b[32m━━━━━━━━━━━━━━━━━━━━\u001b[0m\u001b[37m\u001b[0m \u001b[1m9s\u001b[0m 841ms/step - accuracy: 0.4829 - loss: 1.7538 - val_accuracy: 0.3333 - val_loss: 3.8929\n",
            "Epoch 62/100\n",
            "\u001b[1m10/10\u001b[0m \u001b[32m━━━━━━━━━━━━━━━━━━━━\u001b[0m\u001b[37m\u001b[0m \u001b[1m10s\u001b[0m 807ms/step - accuracy: 0.4660 - loss: 1.3102 - val_accuracy: 0.3333 - val_loss: 1.2877\n",
            "Epoch 63/100\n",
            "\u001b[1m10/10\u001b[0m \u001b[32m━━━━━━━━━━━━━━━━━━━━\u001b[0m\u001b[37m\u001b[0m \u001b[1m10s\u001b[0m 984ms/step - accuracy: 0.5145 - loss: 1.1142 - val_accuracy: 0.5333 - val_loss: 0.9704\n",
            "Epoch 64/100\n",
            "\u001b[1m10/10\u001b[0m \u001b[32m━━━━━━━━━━━━━━━━━━━━\u001b[0m\u001b[37m\u001b[0m \u001b[1m12s\u001b[0m 1s/step - accuracy: 0.4455 - loss: 1.5057 - val_accuracy: 0.5333 - val_loss: 1.0344\n",
            "Epoch 65/100\n",
            "\u001b[1m10/10\u001b[0m \u001b[32m━━━━━━━━━━━━━━━━━━━━\u001b[0m\u001b[37m\u001b[0m \u001b[1m19s\u001b[0m 907ms/step - accuracy: 0.4411 - loss: 0.9526 - val_accuracy: 0.3333 - val_loss: 1.3789\n",
            "Epoch 66/100\n",
            "\u001b[1m10/10\u001b[0m \u001b[32m━━━━━━━━━━━━━━━━━━━━\u001b[0m\u001b[37m\u001b[0m \u001b[1m10s\u001b[0m 972ms/step - accuracy: 0.4683 - loss: 1.1334 - val_accuracy: 0.5500 - val_loss: 1.0274\n",
            "Epoch 67/100\n",
            "\u001b[1m10/10\u001b[0m \u001b[32m━━━━━━━━━━━━━━━━━━━━\u001b[0m\u001b[37m\u001b[0m \u001b[1m12s\u001b[0m 1s/step - accuracy: 0.4730 - loss: 1.1907 - val_accuracy: 0.5500 - val_loss: 0.9395\n",
            "Epoch 68/100\n",
            "\u001b[1m10/10\u001b[0m \u001b[32m━━━━━━━━━━━━━━━━━━━━\u001b[0m\u001b[37m\u001b[0m \u001b[1m19s\u001b[0m 968ms/step - accuracy: 0.4635 - loss: 1.1986 - val_accuracy: 0.6000 - val_loss: 0.9271\n",
            "Epoch 69/100\n",
            "\u001b[1m10/10\u001b[0m \u001b[32m━━━━━━━━━━━━━━━━━━━━\u001b[0m\u001b[37m\u001b[0m \u001b[1m13s\u001b[0m 1s/step - accuracy: 0.5513 - loss: 1.1298 - val_accuracy: 0.3833 - val_loss: 1.2572\n",
            "Epoch 70/100\n",
            "\u001b[1m10/10\u001b[0m \u001b[32m━━━━━━━━━━━━━━━━━━━━\u001b[0m\u001b[37m\u001b[0m \u001b[1m8s\u001b[0m 829ms/step - accuracy: 0.4876 - loss: 1.2287 - val_accuracy: 0.3667 - val_loss: 1.0685\n",
            "Epoch 71/100\n",
            "\u001b[1m10/10\u001b[0m \u001b[32m━━━━━━━━━━━━━━━━━━━━\u001b[0m\u001b[37m\u001b[0m \u001b[1m10s\u001b[0m 929ms/step - accuracy: 0.3854 - loss: 1.3896 - val_accuracy: 0.3333 - val_loss: 18.8890\n",
            "Epoch 72/100\n",
            "\u001b[1m10/10\u001b[0m \u001b[32m━━━━━━━━━━━━━━━━━━━━\u001b[0m\u001b[37m\u001b[0m \u001b[1m10s\u001b[0m 967ms/step - accuracy: 0.2851 - loss: 1.3730 - val_accuracy: 0.3333 - val_loss: 7.6483\n",
            "Epoch 73/100\n",
            "\u001b[1m10/10\u001b[0m \u001b[32m━━━━━━━━━━━━━━━━━━━━\u001b[0m\u001b[37m\u001b[0m \u001b[1m10s\u001b[0m 906ms/step - accuracy: 0.4933 - loss: 1.6136 - val_accuracy: 0.3333 - val_loss: 12.9892\n",
            "Epoch 74/100\n",
            "\u001b[1m10/10\u001b[0m \u001b[32m━━━━━━━━━━━━━━━━━━━━\u001b[0m\u001b[37m\u001b[0m \u001b[1m9s\u001b[0m 772ms/step - accuracy: 0.5439 - loss: 1.1407 - val_accuracy: 0.3333 - val_loss: 51.2940\n",
            "Epoch 75/100\n",
            "\u001b[1m10/10\u001b[0m \u001b[32m━━━━━━━━━━━━━━━━━━━━\u001b[0m\u001b[37m\u001b[0m \u001b[1m12s\u001b[0m 954ms/step - accuracy: 0.5106 - loss: 1.1159 - val_accuracy: 0.3833 - val_loss: 26.7340\n",
            "Epoch 76/100\n",
            "\u001b[1m10/10\u001b[0m \u001b[32m━━━━━━━━━━━━━━━━━━━━\u001b[0m\u001b[37m\u001b[0m \u001b[1m10s\u001b[0m 975ms/step - accuracy: 0.5105 - loss: 1.2403 - val_accuracy: 0.2500 - val_loss: 38.3410\n",
            "Epoch 77/100\n",
            "\u001b[1m10/10\u001b[0m \u001b[32m━━━━━━━━━━━━━━━━━━━━\u001b[0m\u001b[37m\u001b[0m \u001b[1m9s\u001b[0m 800ms/step - accuracy: 0.4046 - loss: 1.2720 - val_accuracy: 0.3333 - val_loss: 18.2082\n",
            "Epoch 78/100\n",
            "\u001b[1m10/10\u001b[0m \u001b[32m━━━━━━━━━━━━━━━━━━━━\u001b[0m\u001b[37m\u001b[0m \u001b[1m10s\u001b[0m 964ms/step - accuracy: 0.3604 - loss: 1.4613 - val_accuracy: 0.3500 - val_loss: 12.0476\n",
            "Epoch 79/100\n",
            "\u001b[1m10/10\u001b[0m \u001b[32m━━━━━━━━━━━━━━━━━━━━\u001b[0m\u001b[37m\u001b[0m \u001b[1m9s\u001b[0m 956ms/step - accuracy: 0.4264 - loss: 1.5337 - val_accuracy: 0.6667 - val_loss: 0.8142\n",
            "Epoch 80/100\n",
            "\u001b[1m10/10\u001b[0m \u001b[32m━━━━━━━━━━━━━━━━━━━━\u001b[0m\u001b[37m\u001b[0m \u001b[1m9s\u001b[0m 790ms/step - accuracy: 0.5027 - loss: 1.5495 - val_accuracy: 0.3500 - val_loss: 15.4102\n",
            "Epoch 81/100\n",
            "\u001b[1m10/10\u001b[0m \u001b[32m━━━━━━━━━━━━━━━━━━━━\u001b[0m\u001b[37m\u001b[0m \u001b[1m12s\u001b[0m 921ms/step - accuracy: 0.4794 - loss: 0.9667 - val_accuracy: 0.5167 - val_loss: 3.8987\n",
            "Epoch 82/100\n",
            "\u001b[1m10/10\u001b[0m \u001b[32m━━━━━━━━━━━━━━━━━━━━\u001b[0m\u001b[37m\u001b[0m \u001b[1m11s\u001b[0m 1s/step - accuracy: 0.5363 - loss: 0.8826 - val_accuracy: 0.5333 - val_loss: 1.2563\n",
            "Epoch 83/100\n",
            "\u001b[1m10/10\u001b[0m \u001b[32m━━━━━━━━━━━━━━━━━━━━\u001b[0m\u001b[37m\u001b[0m \u001b[1m11s\u001b[0m 1s/step - accuracy: 0.5074 - loss: 1.1550 - val_accuracy: 0.5000 - val_loss: 1.9398\n",
            "Epoch 84/100\n",
            "\u001b[1m10/10\u001b[0m \u001b[32m━━━━━━━━━━━━━━━━━━━━\u001b[0m\u001b[37m\u001b[0m \u001b[1m18s\u001b[0m 856ms/step - accuracy: 0.4738 - loss: 1.2824 - val_accuracy: 0.4000 - val_loss: 3.3797\n",
            "Epoch 85/100\n",
            "\u001b[1m10/10\u001b[0m \u001b[32m━━━━━━━━━━━━━━━━━━━━\u001b[0m\u001b[37m\u001b[0m \u001b[1m11s\u001b[0m 977ms/step - accuracy: 0.4914 - loss: 0.9187 - val_accuracy: 0.3333 - val_loss: 9.8476\n",
            "Epoch 86/100\n",
            "\u001b[1m10/10\u001b[0m \u001b[32m━━━━━━━━━━━━━━━━━━━━\u001b[0m\u001b[37m\u001b[0m \u001b[1m11s\u001b[0m 1s/step - accuracy: 0.4916 - loss: 1.1833 - val_accuracy: 0.4000 - val_loss: 2.7614\n",
            "Epoch 87/100\n",
            "\u001b[1m10/10\u001b[0m \u001b[32m━━━━━━━━━━━━━━━━━━━━\u001b[0m\u001b[37m\u001b[0m \u001b[1m20s\u001b[0m 1s/step - accuracy: 0.4939 - loss: 1.1655 - val_accuracy: 0.3333 - val_loss: 10.4609\n",
            "Epoch 88/100\n",
            "\u001b[1m10/10\u001b[0m \u001b[32m━━━━━━━━━━━━━━━━━━━━\u001b[0m\u001b[37m\u001b[0m \u001b[1m10s\u001b[0m 996ms/step - accuracy: 0.5262 - loss: 1.1653 - val_accuracy: 0.6000 - val_loss: 0.8698\n",
            "Epoch 89/100\n",
            "\u001b[1m10/10\u001b[0m \u001b[32m━━━━━━━━━━━━━━━━━━━━\u001b[0m\u001b[37m\u001b[0m \u001b[1m10s\u001b[0m 905ms/step - accuracy: 0.5266 - loss: 1.0602 - val_accuracy: 0.5167 - val_loss: 1.8884\n",
            "Epoch 90/100\n",
            "\u001b[1m10/10\u001b[0m \u001b[32m━━━━━━━━━━━━━━━━━━━━\u001b[0m\u001b[37m\u001b[0m \u001b[1m9s\u001b[0m 783ms/step - accuracy: 0.5051 - loss: 1.0623 - val_accuracy: 0.5167 - val_loss: 2.7579\n",
            "Epoch 91/100\n",
            "\u001b[1m10/10\u001b[0m \u001b[32m━━━━━━━━━━━━━━━━━━━━\u001b[0m\u001b[37m\u001b[0m \u001b[1m12s\u001b[0m 876ms/step - accuracy: 0.5731 - loss: 0.8412 - val_accuracy: 0.3333 - val_loss: 2.9972\n",
            "Epoch 92/100\n",
            "\u001b[1m10/10\u001b[0m \u001b[32m━━━━━━━━━━━━━━━━━━━━\u001b[0m\u001b[37m\u001b[0m \u001b[1m11s\u001b[0m 1s/step - accuracy: 0.5297 - loss: 0.9373 - val_accuracy: 0.3333 - val_loss: 4.6377\n",
            "Epoch 93/100\n",
            "\u001b[1m10/10\u001b[0m \u001b[32m━━━━━━━━━━━━━━━━━━━━\u001b[0m\u001b[37m\u001b[0m \u001b[1m9s\u001b[0m 850ms/step - accuracy: 0.4643 - loss: 1.3237 - val_accuracy: 0.5833 - val_loss: 0.7676\n",
            "Epoch 94/100\n",
            "\u001b[1m10/10\u001b[0m \u001b[32m━━━━━━━━━━━━━━━━━━━━\u001b[0m\u001b[37m\u001b[0m \u001b[1m10s\u001b[0m 801ms/step - accuracy: 0.5596 - loss: 0.9757 - val_accuracy: 0.3333 - val_loss: 11.5534\n",
            "Epoch 95/100\n",
            "\u001b[1m10/10\u001b[0m \u001b[32m━━━━━━━━━━━━━━━━━━━━\u001b[0m\u001b[37m\u001b[0m \u001b[1m11s\u001b[0m 891ms/step - accuracy: 0.4683 - loss: 1.1646 - val_accuracy: 0.5667 - val_loss: 1.6325\n",
            "Epoch 96/100\n",
            "\u001b[1m10/10\u001b[0m \u001b[32m━━━━━━━━━━━━━━━━━━━━\u001b[0m\u001b[37m\u001b[0m \u001b[1m11s\u001b[0m 1s/step - accuracy: 0.4930 - loss: 1.1979 - val_accuracy: 0.3500 - val_loss: 1.0344\n",
            "Epoch 97/100\n",
            "\u001b[1m10/10\u001b[0m \u001b[32m━━━━━━━━━━━━━━━━━━━━\u001b[0m\u001b[37m\u001b[0m \u001b[1m10s\u001b[0m 965ms/step - accuracy: 0.4971 - loss: 1.4971 - val_accuracy: 0.4500 - val_loss: 0.9623\n",
            "Epoch 98/100\n",
            "\u001b[1m10/10\u001b[0m \u001b[32m━━━━━━━━━━━━━━━━━━━━\u001b[0m\u001b[37m\u001b[0m \u001b[1m9s\u001b[0m 906ms/step - accuracy: 0.5908 - loss: 1.0694 - val_accuracy: 0.5333 - val_loss: 0.7979\n",
            "Epoch 99/100\n",
            "\u001b[1m10/10\u001b[0m \u001b[32m━━━━━━━━━━━━━━━━━━━━\u001b[0m\u001b[37m\u001b[0m \u001b[1m11s\u001b[0m 996ms/step - accuracy: 0.5335 - loss: 1.0526 - val_accuracy: 0.4500 - val_loss: 0.9204\n",
            "Epoch 100/100\n",
            "\u001b[1m10/10\u001b[0m \u001b[32m━━━━━━━━━━━━━━━━━━━━\u001b[0m\u001b[37m\u001b[0m \u001b[1m11s\u001b[0m 1s/step - accuracy: 0.5744 - loss: 0.9845 - val_accuracy: 0.5833 - val_loss: 0.7514\n"
          ]
        }
      ],
      "source": [
        "history = model.fit(\n",
        "    train,                           # Training dataset\n",
        "    validation_data=validation,      # Validation dataset\n",
        "    epochs=100,                       # Number of epochs\n",
        "    batch_size=10,                   # Batch size\n",
        ")\n"
      ]
    },
    {
      "cell_type": "code",
      "source": [
        "# Loading best weights\n",
        "model.load_weights('best_model.keras')"
      ],
      "metadata": {
        "colab": {
          "base_uri": "https://localhost:8080/",
          "height": 315
        },
        "id": "n_0ojgW4-nnh",
        "outputId": "ddbde774-5023-4dd0-fbce-f8a8e340c720"
      },
      "id": "n_0ojgW4-nnh",
      "execution_count": 89,
      "outputs": [
        {
          "output_type": "error",
          "ename": "FileNotFoundError",
          "evalue": "[Errno 2] No such file or directory: 'best_model.keras'",
          "traceback": [
            "\u001b[0;31m---------------------------------------------------------------------------\u001b[0m",
            "\u001b[0;31mFileNotFoundError\u001b[0m                         Traceback (most recent call last)",
            "\u001b[0;32m<ipython-input-89-e2e3a79c9101>\u001b[0m in \u001b[0;36m<cell line: 2>\u001b[0;34m()\u001b[0m\n\u001b[1;32m      1\u001b[0m \u001b[0;31m# Loading best weights\u001b[0m\u001b[0;34m\u001b[0m\u001b[0;34m\u001b[0m\u001b[0m\n\u001b[0;32m----> 2\u001b[0;31m \u001b[0mmodel\u001b[0m\u001b[0;34m.\u001b[0m\u001b[0mload_weights\u001b[0m\u001b[0;34m(\u001b[0m\u001b[0;34m'best_model.keras'\u001b[0m\u001b[0;34m)\u001b[0m\u001b[0;34m\u001b[0m\u001b[0;34m\u001b[0m\u001b[0m\n\u001b[0m",
            "\u001b[0;32m/usr/local/lib/python3.10/dist-packages/keras/src/utils/traceback_utils.py\u001b[0m in \u001b[0;36merror_handler\u001b[0;34m(*args, **kwargs)\u001b[0m\n\u001b[1;32m    120\u001b[0m             \u001b[0;31m# To get the full stack trace, call:\u001b[0m\u001b[0;34m\u001b[0m\u001b[0;34m\u001b[0m\u001b[0m\n\u001b[1;32m    121\u001b[0m             \u001b[0;31m# `keras.config.disable_traceback_filtering()`\u001b[0m\u001b[0;34m\u001b[0m\u001b[0;34m\u001b[0m\u001b[0m\n\u001b[0;32m--> 122\u001b[0;31m             \u001b[0;32mraise\u001b[0m \u001b[0me\u001b[0m\u001b[0;34m.\u001b[0m\u001b[0mwith_traceback\u001b[0m\u001b[0;34m(\u001b[0m\u001b[0mfiltered_tb\u001b[0m\u001b[0;34m)\u001b[0m \u001b[0;32mfrom\u001b[0m \u001b[0;32mNone\u001b[0m\u001b[0;34m\u001b[0m\u001b[0;34m\u001b[0m\u001b[0m\n\u001b[0m\u001b[1;32m    123\u001b[0m         \u001b[0;32mfinally\u001b[0m\u001b[0;34m:\u001b[0m\u001b[0;34m\u001b[0m\u001b[0;34m\u001b[0m\u001b[0m\n\u001b[1;32m    124\u001b[0m             \u001b[0;32mdel\u001b[0m \u001b[0mfiltered_tb\u001b[0m\u001b[0;34m\u001b[0m\u001b[0;34m\u001b[0m\u001b[0m\n",
            "\u001b[0;32m/usr/lib/python3.10/zipfile.py\u001b[0m in \u001b[0;36m__init__\u001b[0;34m(self, file, mode, compression, allowZip64, compresslevel, strict_timestamps)\u001b[0m\n\u001b[1;32m   1252\u001b[0m             \u001b[0;32mwhile\u001b[0m \u001b[0;32mTrue\u001b[0m\u001b[0;34m:\u001b[0m\u001b[0;34m\u001b[0m\u001b[0;34m\u001b[0m\u001b[0m\n\u001b[1;32m   1253\u001b[0m                 \u001b[0;32mtry\u001b[0m\u001b[0;34m:\u001b[0m\u001b[0;34m\u001b[0m\u001b[0;34m\u001b[0m\u001b[0m\n\u001b[0;32m-> 1254\u001b[0;31m                     \u001b[0mself\u001b[0m\u001b[0;34m.\u001b[0m\u001b[0mfp\u001b[0m \u001b[0;34m=\u001b[0m \u001b[0mio\u001b[0m\u001b[0;34m.\u001b[0m\u001b[0mopen\u001b[0m\u001b[0;34m(\u001b[0m\u001b[0mfile\u001b[0m\u001b[0;34m,\u001b[0m \u001b[0mfilemode\u001b[0m\u001b[0;34m)\u001b[0m\u001b[0;34m\u001b[0m\u001b[0;34m\u001b[0m\u001b[0m\n\u001b[0m\u001b[1;32m   1255\u001b[0m                 \u001b[0;32mexcept\u001b[0m \u001b[0mOSError\u001b[0m\u001b[0;34m:\u001b[0m\u001b[0;34m\u001b[0m\u001b[0;34m\u001b[0m\u001b[0m\n\u001b[1;32m   1256\u001b[0m                     \u001b[0;32mif\u001b[0m \u001b[0mfilemode\u001b[0m \u001b[0;32min\u001b[0m \u001b[0mmodeDict\u001b[0m\u001b[0;34m:\u001b[0m\u001b[0;34m\u001b[0m\u001b[0;34m\u001b[0m\u001b[0m\n",
            "\u001b[0;31mFileNotFoundError\u001b[0m: [Errno 2] No such file or directory: 'best_model.keras'"
          ]
        }
      ]
    },
    {
      "cell_type": "code",
      "source": [],
      "metadata": {
        "id": "UT5NgeglGYHq"
      },
      "id": "UT5NgeglGYHq",
      "execution_count": null,
      "outputs": []
    }
  ],
  "metadata": {
    "kernelspec": {
      "display_name": "Python 3",
      "name": "python3"
    },
    "language_info": {
      "codemirror_mode": {
        "name": "ipython",
        "version": 3
      },
      "file_extension": ".py",
      "mimetype": "text/x-python",
      "name": "python",
      "nbconvert_exporter": "python",
      "pygments_lexer": "ipython3",
      "version": "3.12.4"
    },
    "colab": {
      "provenance": [],
      "gpuType": "T4",
      "include_colab_link": true
    },
    "accelerator": "GPU"
  },
  "nbformat": 4,
  "nbformat_minor": 5
}